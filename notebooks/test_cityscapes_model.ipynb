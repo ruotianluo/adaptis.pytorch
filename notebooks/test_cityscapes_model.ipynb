{
 "cells": [
  {
   "cell_type": "code",
   "execution_count": 6,
   "metadata": {},
   "outputs": [],
   "source": [
    "%matplotlib inline\n",
    "import matplotlib.pyplot as plt\n",
    "\n",
    "import cv2\n",
    "import sys\n",
    "import os\n",
    "import torch\n",
    "from tqdm import tnrange\n",
    "\n",
    "sys.path.insert(0, '..')\n",
    "from adaptis.inference.adaptis_sampling import get_panoptic_segmentation\n",
    "from adaptis.inference.prediction_model import AdaptISPrediction\n",
    "\n",
    "device = torch.device('cuda')"
   ]
  },
  {
   "cell_type": "markdown",
   "metadata": {},
   "source": [
    "### Init dataset"
   ]
  },
  {
   "cell_type": "code",
   "execution_count": 2,
   "metadata": {},
   "outputs": [],
   "source": [
    "from adaptis.data.cityscapes import CityscapesDataset\n",
    "\n",
    "dataset_path = '/share/data/vision-greg/cityscapes'\n",
    "dataset = CityscapesDataset(dataset_path, split='val', with_segmentation=True)"
   ]
  },
  {
   "cell_type": "markdown",
   "metadata": {},
   "source": [
    "### Load model"
   ]
  },
  {
   "cell_type": "code",
   "execution_count": 4,
   "metadata": {},
   "outputs": [
    {
     "data": {
      "text/plain": [
       "<All keys matched successfully>"
      ]
     },
     "execution_count": 4,
     "metadata": {},
     "output_type": "execute_result"
    }
   ],
   "source": [
    "from adaptis.model.cityscapes.models import get_cityscapes_model\n",
    "\n",
    "model = get_cityscapes_model(num_classes=19, norm_layer=torch.nn.BatchNorm2d, backbone='resnet50', with_proposals=True)\n",
    "pmodel = AdaptISPrediction(model, dataset, device)\n",
    "\n",
    "weights_path = '../experiments/cityscapes/003/checkpoints/proposals_last_checkpoint.pth'\n",
    "pmodel.net.load_state_dict(torch.load(weights_path)['model_state'])"
   ]
  },
  {
   "cell_type": "markdown",
   "metadata": {},
   "source": [
    "### Test on one image"
   ]
  },
  {
   "cell_type": "code",
   "execution_count": 8,
   "metadata": {},
   "outputs": [
    {
     "name": "stdout",
     "output_type": "stream",
     "text": [
      "/share/data/vision-greg/cityscapes/leftImg8bit/test/berlin/berlin_000494_000019_leftImg8bit.png\n"
     ]
    }
   ],
   "source": [
    "proposals_sampling_params = {\n",
    "    'thresh1': 0.4,\n",
    "    'thresh2': 0.5,\n",
    "    'ithresh': 0.3,\n",
    "    'fl_prob': 0.10,\n",
    "    'fl_eps': 0.003,\n",
    "    'fl_blur': 2,\n",
    "    'max_iters': 100\n",
    "}\n",
    "\n",
    "image_path = os.path.join(dataset_path, 'leftImg8bit/test/berlin', 'berlin_000494_000019_leftImg8bit.png')\n",
    "print(image_path)\n",
    "\n",
    "image = cv2.imread(image_path)\n",
    "image = cv2.cvtColor(image, cv2.COLOR_BGR2RGB)\n",
    "\n",
    "pred = get_panoptic_segmentation(pmodel, image,\n",
    "                                 sampling_algorithm='proposals',\n",
    "                                 use_flip=True, **proposals_sampling_params)"
   ]
  },
  {
   "cell_type": "code",
   "execution_count": 9,
   "metadata": {},
   "outputs": [
    {
     "data": {
      "text/plain": [
       "<matplotlib.image.AxesImage at 0x7fb4509a5790>"
      ]
     },
     "execution_count": 9,
     "metadata": {},
     "output_type": "execute_result"
    },
    {
     "data": {
      "image/png": "[encoded data removed]",
      "text/plain": [
       "<Figure size 432x288 with 1 Axes>"
      ]
     },
     "metadata": {
      "needs_background": "light"
     },
     "output_type": "display_data"
    }
   ],
   "source": [
    "import pylab\n",
    "pylab.imshow(dataset.convert_to_coco_format(pred)['annotation'])"
   ]
  },
  {
   "cell_type": "code",
   "execution_count": 10,
   "metadata": {
    "scrolled": false
   },
   "outputs": [
    {
     "data": {
      "application/vnd.jupyter.widget-view+json": {
       "model_id": "c268a391960344ca92689496dbacd39a",
       "version_major": 2,
       "version_minor": 0
      },
      "text/plain": [
       "interactive(children=(BoundedIntText(value=0, description='ix', max=22), Output()), _dom_classes=('widget-inte…"
      ]
     },
     "metadata": {},
     "output_type": "display_data"
    },
    {
     "data": {
      "text/plain": [
       "<function __main__.show(ix)>"
      ]
     },
     "execution_count": 10,
     "metadata": {},
     "output_type": "execute_result"
    }
   ],
   "source": [
    "def show(ix):\n",
    "    import pylab\n",
    "    pylab.figure(figsize=(20,10))\n",
    "    pylab.imshow((pred['instances_mask'] == ix).astype('float32')[...,None] * 0.5  + image.astype('float32')/255/2)\n",
    "import ipywidgets as widgets\n",
    "widgets.interact(show, ix=widgets.BoundedIntText(min=0, max=len(pred['masks']), value=0))"
   ]
  },
  {
   "cell_type": "markdown",
   "metadata": {},
   "source": [
    "### Define evaluation function"
   ]
  },
  {
   "cell_type": "code",
   "execution_count": 13,
   "metadata": {},
   "outputs": [],
   "source": [
    "from adaptis.coco.panoptic_metric import PQStat, pq_compute, print_pq_stat\n",
    "\n",
    "def test_model(pmodel, dataset,\n",
    "               sampling_algorithm, sampling_params,\n",
    "               use_flip=False, cut_radius=-1):\n",
    "    pq_stat = PQStat()\n",
    "    categories = dataset._generate_coco_categories()\n",
    "    categories = {x['id']: x for x in categories}\n",
    "\n",
    "    for indx in tnrange(len(dataset)):\n",
    "        sample = dataset.get_sample(indx)\n",
    "        pred = get_panoptic_segmentation(pmodel, sample['image'],\n",
    "                                         sampling_algorithm=sampling_algorithm,\n",
    "                                         use_flip=use_flip, cut_radius=cut_radius, **sampling_params)\n",
    "        \n",
    "        \n",
    "        coco_sample = dataset.convert_to_coco_format(sample)\n",
    "        pred = dataset.convert_to_coco_format(pred)\n",
    "\n",
    "        pq_stat = pq_compute(pq_stat, pred, coco_sample, categories)\n",
    "    \n",
    "    print_pq_stat(pq_stat, categories)"
   ]
  },
  {
   "cell_type": "markdown",
   "metadata": {},
   "source": [
    "### Test proposals-based point sampling"
   ]
  },
  {
   "cell_type": "code",
   "execution_count": 14,
   "metadata": {},
   "outputs": [
    {
     "data": {
      "application/vnd.jupyter.widget-view+json": {
       "model_id": "0fe3f9d4aaf241a491a5357744397837",
       "version_major": 2,
       "version_minor": 0
      },
      "text/plain": [
       "HBox(children=(IntProgress(value=0, max=500), HTML(value='')))"
      ]
     },
     "metadata": {},
     "output_type": "display_data"
    },
    {
     "name": "stdout",
     "output_type": "stream",
     "text": [
      "\n",
      "          |     PQ      SQ      RQ     N\n",
      "--------------------------------------\n",
      "All       |  53.14   79.07   65.69    19\n",
      "Things    |  40.37   77.57   51.92     8\n",
      "Stuff     |  62.43   80.16   75.70    11\n"
     ]
    }
   ],
   "source": [
    "test_model(pmodel, dataset,\n",
    "           sampling_algorithm='proposals',\n",
    "           sampling_params=proposals_sampling_params,\n",
    "           use_flip=True)"
   ]
  }
 ],
 "metadata": {
  "kernelspec": {
   "display_name": "Python 3",
   "language": "python",
   "name": "python3"
  },
  "language_info": {
   "codemirror_mode": {
    "name": "ipython",
    "version": 3
   },
   "file_extension": ".py",
   "mimetype": "text/x-python",
   "name": "python",
   "nbconvert_exporter": "python",
   "pygments_lexer": "ipython3",
   "version": "3.7.4"
  }
 },
 "nbformat": 4,
 "nbformat_minor": 4
}
